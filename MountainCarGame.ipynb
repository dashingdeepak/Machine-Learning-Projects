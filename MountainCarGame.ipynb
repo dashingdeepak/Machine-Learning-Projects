{
  "nbformat": 4,
  "nbformat_minor": 0,
  "metadata": {
    "colab": {
      "provenance": [],
      "include_colab_link": true
    },
    "kernelspec": {
      "name": "python3",
      "display_name": "Python 3"
    },
    "language_info": {
      "name": "python"
    }
  },
  "cells": [
    {
      "cell_type": "markdown",
      "metadata": {
        "id": "view-in-github",
        "colab_type": "text"
      },
      "source": [
        "<a href=\"https://colab.research.google.com/github/dashingdeepak/Machine-Learning-Projects/blob/main/MountainCarGame.ipynb\" target=\"_parent\"><img src=\"https://colab.research.google.com/assets/colab-badge.svg\" alt=\"Open In Colab\"/></a>"
      ]
    },
    {
      "cell_type": "markdown",
      "source": [
        " **Problem Description**\n",
        "\n",
        "In the MountainCar environment, a car starts at the bottom of a valley. The agent must learn to drive up a steep hill to reach the flag. Since the car’s engine is not powerful enough to climb the hill directly, it must first build momentum by driving back and forth.\n",
        "The car's engine isn't powerful enough to drive directly up the hill. Instead, the agent must learn to build momentum by first moving left to gain speed and then driving right to reach the goal.\n",
        "\n",
        "    State Space: Continuous values for position and velocity.\n",
        "    Action Space: Three discrete actions:\n",
        "        0: Push left\n",
        "        1: No push\n",
        "        2: Push right\n",
        "    Reward: The agent gets -1 for each time step until it reaches the goal."
      ],
      "metadata": {
        "id": "1vZ74GdYS7gT"
      }
    },
    {
      "cell_type": "markdown",
      "source": [
        "Training:\n",
        "\n",
        "    The agent is trained over 5000 episodes.\n",
        "    Epsilon-greedy policy ensures exploration initially, which decays over time to favor exploitation.\n",
        "\n",
        "Testing:\n",
        "\n",
        "    The trained agent is evaluated and its performance recorded as a video.\n",
        "\n",
        "Video Display:\n",
        "\n",
        "    The RecordVideo wrapper saves the video, and it is displayed using HTML in Colab."
      ],
      "metadata": {
        "id": "2OMhh8fUTc-G"
      }
    },
    {
      "cell_type": "code",
      "source": [
        "# Install the required library\n",
        "!pip install gym\n",
        "\n",
        "# Import required libraries\n",
        "import gym\n",
        "import numpy as np\n",
        "import matplotlib.pyplot as plt\n",
        "from IPython.display import HTML\n",
        "import glob\n",
        "import io\n",
        "from base64 import b64encode\n",
        "from gym.wrappers import RecordVideo\n",
        "\n",
        "# Function to discretize state space\n",
        "def discretize_state(state, bins):\n",
        "    position_bins = np.linspace(-1.2, 0.6, bins)  # Discretize position\n",
        "    velocity_bins = np.linspace(-0.07, 0.07, bins)  # Discretize velocity\n",
        "    position_idx = np.digitize(state[0], position_bins) - 1\n",
        "    velocity_idx = np.digitize(state[1], velocity_bins) - 1\n",
        "    return (position_idx, velocity_idx)\n",
        "\n",
        "# Function to display video\n",
        "def show_video():\n",
        "    video_path = glob.glob('./video/*.mp4')[0]\n",
        "    video = io.open(video_path, 'r+b').read()\n",
        "    encoded = b64encode(video)\n",
        "    return HTML(data=f'''\n",
        "        <video width=\"640\" height=\"480\" controls>\n",
        "            <source src=\"data:video/mp4;base64,{encoded.decode('ascii')}\" type=\"video/mp4\">\n",
        "        </video>''')\n",
        "\n",
        "# Initialize the environment\n",
        "env = gym.make(\"MountainCar-v0\")\n",
        "\n",
        "# Hyperparameters\n",
        "n_bins = 20  # Number of bins for discretization\n",
        "alpha = 0.1  # Learning rate\n",
        "gamma = 0.99  # Discount factor\n",
        "epsilon = 1.0  # Exploration rate\n",
        "epsilon_decay = 0.995\n",
        "epsilon_min = 0.01\n",
        "n_episodes = 5000\n",
        "\n",
        "# Initialize Q-table\n",
        "n_actions = env.action_space.n\n",
        "q_table = np.zeros((n_bins, n_bins, n_actions))\n",
        "\n",
        "# Training loop\n",
        "for episode in range(n_episodes):\n",
        "    state = discretize_state(env.reset(), n_bins)\n",
        "    done = False\n",
        "    total_reward = 0\n",
        "\n",
        "    while not done:\n",
        "        # Choose action: exploration vs exploitation\n",
        "        if np.random.random() < epsilon:\n",
        "            action = env.action_space.sample()\n",
        "        else:\n",
        "            action = np.argmax(q_table[state])\n",
        "\n",
        "        # Perform action\n",
        "        next_state_raw, reward, done, _ = env.step(action)\n",
        "        next_state = discretize_state(next_state_raw, n_bins)\n",
        "\n",
        "        # Update Q-value\n",
        "        best_next_action = np.argmax(q_table[next_state])\n",
        "        td_target = reward + gamma * q_table[next_state][best_next_action]\n",
        "        q_table[state][action] += alpha * (td_target - q_table[state][action])\n",
        "\n",
        "        state = next_state\n",
        "        total_reward += reward\n",
        "\n",
        "    # Decay epsilon\n",
        "    if epsilon > epsilon_min:\n",
        "        epsilon *= epsilon_decay\n",
        "\n",
        "    if episode % 100 == 0:\n",
        "        print(f\"Episode {episode}, Total Reward: {total_reward}\")\n",
        "\n",
        "print(\"Training Complete!\")\n",
        "\n",
        "# Wrap environment for recording\n",
        "env = RecordVideo(env, \"./video\", episode_trigger=lambda x: True)\n",
        "\n",
        "# Test the trained agent\n",
        "state = discretize_state(env.reset(), n_bins)\n",
        "done = False\n",
        "while not done:\n",
        "    action = np.argmax(q_table[state])\n",
        "    next_state_raw, _, done, _ = env.step(action)\n",
        "    state = discretize_state(next_state_raw, n_bins)\n",
        "\n",
        "env.close()\n",
        "\n",
        "# Display the video\n",
        "show_video()\n"
      ],
      "metadata": {
        "colab": {
          "base_uri": "https://localhost:8080/",
          "height": 1000
        },
        "id": "R1pDBWRnRcEy",
        "outputId": "6f274926-d56d-484b-8d18-3af67e38b342"
      },
      "execution_count": 1,
      "outputs": [
        {
          "output_type": "stream",
          "name": "stdout",
          "text": [
            "Requirement already satisfied: gym in /usr/local/lib/python3.10/dist-packages (0.25.2)\n",
            "Requirement already satisfied: numpy>=1.18.0 in /usr/local/lib/python3.10/dist-packages (from gym) (1.26.4)\n",
            "Requirement already satisfied: cloudpickle>=1.2.0 in /usr/local/lib/python3.10/dist-packages (from gym) (3.1.0)\n",
            "Requirement already satisfied: gym_notices>=0.0.4 in /usr/local/lib/python3.10/dist-packages (from gym) (0.0.8)\n"
          ]
        },
        {
          "output_type": "stream",
          "name": "stderr",
          "text": [
            "/usr/local/lib/python3.10/dist-packages/gym/core.py:317: DeprecationWarning: \u001b[33mWARN: Initializing wrapper in old step API which returns one bool instead of two. It is recommended to set `new_step_api=True` to use new step API. This will be the default behaviour in future.\u001b[0m\n",
            "  deprecation(\n",
            "/usr/local/lib/python3.10/dist-packages/gym/wrappers/step_api_compatibility.py:39: DeprecationWarning: \u001b[33mWARN: Initializing environment in old step API which returns one bool instead of two. It is recommended to set `new_step_api=True` to use new step API. This will be the default behaviour in future.\u001b[0m\n",
            "  deprecation(\n",
            "/usr/local/lib/python3.10/dist-packages/gym/utils/passive_env_checker.py:241: DeprecationWarning: `np.bool8` is a deprecated alias for `np.bool_`.  (Deprecated NumPy 1.24)\n",
            "  if not isinstance(terminated, (bool, np.bool8)):\n"
          ]
        },
        {
          "output_type": "stream",
          "name": "stdout",
          "text": [
            "Episode 0, Total Reward: -200.0\n",
            "Episode 100, Total Reward: -200.0\n",
            "Episode 200, Total Reward: -200.0\n",
            "Episode 300, Total Reward: -200.0\n",
            "Episode 400, Total Reward: -200.0\n",
            "Episode 500, Total Reward: -200.0\n",
            "Episode 600, Total Reward: -200.0\n",
            "Episode 700, Total Reward: -200.0\n",
            "Episode 800, Total Reward: -200.0\n",
            "Episode 900, Total Reward: -200.0\n",
            "Episode 1000, Total Reward: -200.0\n",
            "Episode 1100, Total Reward: -200.0\n",
            "Episode 1200, Total Reward: -200.0\n",
            "Episode 1300, Total Reward: -200.0\n",
            "Episode 1400, Total Reward: -200.0\n",
            "Episode 1500, Total Reward: -200.0\n",
            "Episode 1600, Total Reward: -200.0\n",
            "Episode 1700, Total Reward: -200.0\n",
            "Episode 1800, Total Reward: -200.0\n",
            "Episode 1900, Total Reward: -200.0\n",
            "Episode 2000, Total Reward: -154.0\n",
            "Episode 2100, Total Reward: -200.0\n",
            "Episode 2200, Total Reward: -200.0\n",
            "Episode 2300, Total Reward: -200.0\n",
            "Episode 2400, Total Reward: -157.0\n",
            "Episode 2500, Total Reward: -200.0\n",
            "Episode 2600, Total Reward: -161.0\n",
            "Episode 2700, Total Reward: -200.0\n",
            "Episode 2800, Total Reward: -200.0\n",
            "Episode 2900, Total Reward: -143.0\n",
            "Episode 3000, Total Reward: -136.0\n",
            "Episode 3100, Total Reward: -200.0\n",
            "Episode 3200, Total Reward: -148.0\n",
            "Episode 3300, Total Reward: -200.0\n",
            "Episode 3400, Total Reward: -200.0\n",
            "Episode 3500, Total Reward: -200.0\n",
            "Episode 3600, Total Reward: -192.0\n",
            "Episode 3700, Total Reward: -164.0\n",
            "Episode 3800, Total Reward: -154.0\n",
            "Episode 3900, Total Reward: -155.0\n",
            "Episode 4000, Total Reward: -161.0\n",
            "Episode 4100, Total Reward: -133.0\n",
            "Episode 4200, Total Reward: -146.0\n",
            "Episode 4300, Total Reward: -146.0\n",
            "Episode 4400, Total Reward: -114.0\n",
            "Episode 4500, Total Reward: -145.0\n",
            "Episode 4600, Total Reward: -200.0\n",
            "Episode 4700, Total Reward: -160.0\n",
            "Episode 4800, Total Reward: -144.0\n",
            "Episode 4900, Total Reward: -135.0\n",
            "Training Complete!\n"
          ]
        },
        {
          "output_type": "stream",
          "name": "stderr",
          "text": [
            "/usr/local/lib/python3.10/dist-packages/gym/wrappers/monitoring/video_recorder.py:78: DeprecationWarning: \u001b[33mWARN: Recording ability for environment MountainCar-v0 initialized with `render_mode=None` is marked as deprecated and will be removed in the future.\u001b[0m\n",
            "  logger.deprecation(\n",
            "/usr/local/lib/python3.10/dist-packages/gym/core.py:43: DeprecationWarning: \u001b[33mWARN: The argument mode in render method is deprecated; use render_mode during environment initialization instead.\n",
            "See here for more information: https://www.gymlibrary.ml/content/api/\u001b[0m\n",
            "  deprecation(\n",
            "/usr/local/lib/python3.10/dist-packages/pygame/pkgdata.py:25: DeprecationWarning: pkg_resources is deprecated as an API. See https://setuptools.pypa.io/en/latest/pkg_resources.html\n",
            "  from pkg_resources import resource_stream, resource_exists\n",
            "/usr/local/lib/python3.10/dist-packages/pkg_resources/__init__.py:3154: DeprecationWarning: Deprecated call to `pkg_resources.declare_namespace('google')`.\n",
            "Implementing implicit namespace packages (as specified in PEP 420) is preferred to `pkg_resources.declare_namespace`. See https://setuptools.pypa.io/en/latest/references/keywords.html#keyword-namespace-packages\n",
            "  declare_namespace(pkg)\n",
            "/usr/local/lib/python3.10/dist-packages/pkg_resources/__init__.py:3154: DeprecationWarning: Deprecated call to `pkg_resources.declare_namespace('google.cloud')`.\n",
            "Implementing implicit namespace packages (as specified in PEP 420) is preferred to `pkg_resources.declare_namespace`. See https://setuptools.pypa.io/en/latest/references/keywords.html#keyword-namespace-packages\n",
            "  declare_namespace(pkg)\n",
            "/usr/local/lib/python3.10/dist-packages/pkg_resources/__init__.py:3154: DeprecationWarning: Deprecated call to `pkg_resources.declare_namespace('sphinxcontrib')`.\n",
            "Implementing implicit namespace packages (as specified in PEP 420) is preferred to `pkg_resources.declare_namespace`. See https://setuptools.pypa.io/en/latest/references/keywords.html#keyword-namespace-packages\n",
            "  declare_namespace(pkg)\n",
            "/usr/local/lib/python3.10/dist-packages/gym/core.py:43: DeprecationWarning: \u001b[33mWARN: The argument mode in render method is deprecated; use render_mode during environment initialization instead.\n",
            "See here for more information: https://www.gymlibrary.ml/content/api/\u001b[0m\n",
            "  deprecation(\n"
          ]
        },
        {
          "output_type": "execute_result",
          "data": {
            "text/plain": [
              "<IPython.core.display.HTML object>"
            ],
            "text/html": [
              "\n",
              "        <video width=\"640\" height=\"480\" controls>\n",
              "            <source src=\"data:video/mp4;base64,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\" type=\"video/mp4\">\n",
              "        </video>"
            ]
          },
          "metadata": {},
          "execution_count": 1
        }
      ]
    },
    {
      "cell_type": "code",
      "source": [],
      "metadata": {
        "id": "eRMVFBNFSMN7"
      },
      "execution_count": null,
      "outputs": []
    }
  ]
}